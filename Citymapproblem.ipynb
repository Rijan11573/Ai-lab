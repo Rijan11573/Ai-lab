{
  "nbformat": 4,
  "nbformat_minor": 0,
  "metadata": {
    "colab": {
      "provenance": []
    },
    "kernelspec": {
      "name": "python3",
      "display_name": "Python 3"
    },
    "language_info": {
      "name": "python"
    }
  },
  "cells": [
    {
      "cell_type": "code",
      "execution_count": 1,
      "metadata": {
        "colab": {
          "base_uri": "https://localhost:8080/"
        },
        "id": "z__xrKRW3hMx",
        "outputId": "dd9f6bbf-e165-452d-9743-6bb1264db61b"
      },
      "outputs": [
        {
          "output_type": "stream",
          "name": "stdout",
          "text": [
            "The shortest distance from A to D is 4\n"
          ]
        }
      ],
      "source": [
        "import heapq\n",
        "\n",
        "def dijkstra(city_map, start, end):\n",
        "    distances = {node: float('inf') for node in city_map}\n",
        "    distances[start] = 0\n",
        "    pq = [(0, start)]\n",
        "\n",
        "    while pq:\n",
        "        current_distance, current_node = heapq.heappop(pq)\n",
        "\n",
        "        if current_node == end:\n",
        "            return current_distance\n",
        "\n",
        "        if current_distance > distances[current_node]:\n",
        "            continue\n",
        "\n",
        "        for neighbor, weight in city_map[current_node].items():\n",
        "            distance = current_distance + weight\n",
        "            if distance < distances[neighbor]:\n",
        "                distances[neighbor] = distance\n",
        "                heapq.heappush(pq, (distance, neighbor))\n",
        "\n",
        "    return float('inf')\n",
        "\n",
        "city_map = {\n",
        "    'A': {'B': 1, 'C': 4},\n",
        "    'B': {'A': 1, 'C': 2, 'D': 5},\n",
        "    'C': {'A': 4, 'B': 2, 'D': 1},\n",
        "    'D': {'B': 5, 'C': 1}\n",
        "}\n",
        "\n",
        "start = 'A'\n",
        "end = 'D'\n",
        "shortest_distance = dijkstra(city_map, start, end)\n",
        "\n",
        "print(f\"The shortest distance from {start} to {end} is {shortest_distance}\")\n"
      ]
    }
  ]
}